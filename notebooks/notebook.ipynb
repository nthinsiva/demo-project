{
 "cells": [
  {
   "cell_type": "code",
   "execution_count": 1,
   "metadata": {},
   "outputs": [
    {
     "name": "stdout",
     "output_type": "stream",
     "text": [
      "Addition: 15\n",
      "Multiplication: 50\n",
      "Subtraction: 5\n",
      "Division: 2.0\n"
     ]
    }
   ],
   "source": [
    "def calculate_and_print(a, b):\n",
    "    addition = a + b\n",
    "    multiplication = a * b\n",
    "    subtraction = a - b\n",
    "    if b != 0:\n",
    "        division = a / b\n",
    "    else:\n",
    "        division = \"undefined (division by zero)\"\n",
    "    \n",
    "    print(f\"Addition: {addition}\")\n",
    "    print(f\"Multiplication: {multiplication}\")\n",
    "    print(f\"Subtraction: {subtraction}\")\n",
    "    print(f\"Division: {division}\")\n",
    "\n",
    "# Example usage\n",
    "calculate_and_print(10, 5)"
   ]
  }
 ],
 "metadata": {
  "kernelspec": {
   "display_name": ".venv",
   "language": "python",
   "name": "python3"
  },
  "language_info": {
   "codemirror_mode": {
    "name": "ipython",
    "version": 3
   },
   "file_extension": ".py",
   "mimetype": "text/x-python",
   "name": "python",
   "nbconvert_exporter": "python",
   "pygments_lexer": "ipython3",
   "version": "3.13.2"
  }
 },
 "nbformat": 4,
 "nbformat_minor": 2
}
